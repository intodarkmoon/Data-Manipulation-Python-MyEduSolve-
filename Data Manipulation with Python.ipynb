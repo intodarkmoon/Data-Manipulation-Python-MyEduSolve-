{
  "cells": [
    {
      "cell_type": "markdown",
      "metadata": {
        "heading_collapsed": true,
        "id": "WSzdIPU3SOty"
      },
      "source": [
        "# Data Manipulation With Python"
      ]
    },
    {
      "cell_type": "markdown",
      "metadata": {
        "hidden": true,
        "id": "5ZQJrJwuSOt1"
      },
      "source": [
        "Data manipulation here does not mean engineering data, not making data inconsistent with its original value. But Data Manipulation is here to simplify the data when it is analyzed by the machine."
      ]
    },
    {
      "cell_type": "markdown",
      "metadata": {
        "hidden": true,
        "id": "mK5uZvV0SOt2"
      },
      "source": [
        "import library-library that will be needed"
      ]
    },
    {
      "cell_type": "code",
      "execution_count": null,
      "metadata": {
        "hidden": true,
        "id": "iOdXb2ubSOt2"
      },
      "outputs": [],
      "source": [
        "import pandas as pd\n",
        "import numpy as np"
      ]
    },
    {
      "cell_type": "markdown",
      "metadata": {
        "hidden": true,
        "id": "kGG4V79xSOt3"
      },
      "source": [
        "Pandas has two objects, namely series and data frames"
      ]
    },
    {
      "cell_type": "markdown",
      "metadata": {
        "heading_collapsed": true,
        "id": "EHdOeoc8SOt4"
      },
      "source": [
        "# Object Series"
      ]
    },
    {
      "cell_type": "markdown",
      "metadata": {
        "hidden": true,
        "id": "soSFI9fsSOt4"
      },
      "source": [
        "Object Series has one dimension of data.. It doesn't have a column name because it only has one column.. And it has an index.."
      ]
    },
    {
      "cell_type": "code",
      "execution_count": null,
      "metadata": {
        "hidden": true,
        "id": "3pqDdpmRSOt5"
      },
      "outputs": [],
      "source": [
        "data = [0.25, 0.50, 0.75, 1]"
      ]
    },
    {
      "cell_type": "markdown",
      "metadata": {
        "hidden": true,
        "id": "XfciOB1gSOt5"
      },
      "source": [
        "converting data into series"
      ]
    },
    {
      "cell_type": "code",
      "execution_count": null,
      "metadata": {
        "hidden": true,
        "id": "30njpLAhSOt6"
      },
      "outputs": [],
      "source": [
        "data = pd.Series(data)"
      ]
    },
    {
      "cell_type": "code",
      "execution_count": null,
      "metadata": {
        "hidden": true,
        "colab": {
          "base_uri": "https://localhost:8080/"
        },
        "id": "okQBYtcZSOt6",
        "outputId": "387e8802-cf24-4baa-bff8-24c94985e9e9"
      },
      "outputs": [
        {
          "output_type": "execute_result",
          "data": {
            "text/plain": [
              "0    0.25\n",
              "1    0.50\n",
              "2    0.75\n",
              "3    1.00\n",
              "dtype: float64"
            ]
          },
          "metadata": {},
          "execution_count": 5
        }
      ],
      "source": [
        "data"
      ]
    },
    {
      "cell_type": "markdown",
      "metadata": {
        "hidden": true,
        "id": "wK7VAiPMSOt7"
      },
      "source": [
        "convert from series to array"
      ]
    },
    {
      "cell_type": "code",
      "execution_count": null,
      "metadata": {
        "hidden": true,
        "colab": {
          "base_uri": "https://localhost:8080/"
        },
        "id": "nnhXhEs-SOt7",
        "outputId": "9d0722bf-ea65-46e5-c200-f4c2a1baf362"
      },
      "outputs": [
        {
          "output_type": "execute_result",
          "data": {
            "text/plain": [
              "array([0.25, 0.5 , 0.75, 1.  ])"
            ]
          },
          "metadata": {},
          "execution_count": 6
        }
      ],
      "source": [
        "data.values"
      ]
    },
    {
      "cell_type": "markdown",
      "metadata": {
        "hidden": true,
        "id": "z_CwzRZeSOt8"
      },
      "source": [
        "display index..\n",
        "\n",
        "The index is a range, where the starting point is inclusive of the range and the stop point is exclusive of the range."
      ]
    },
    {
      "cell_type": "code",
      "execution_count": null,
      "metadata": {
        "hidden": true,
        "colab": {
          "base_uri": "https://localhost:8080/"
        },
        "id": "9EF8hrxKSOt8",
        "outputId": "877e42fe-a230-41cd-be9b-e88a24254852"
      },
      "outputs": [
        {
          "output_type": "execute_result",
          "data": {
            "text/plain": [
              "RangeIndex(start=0, stop=4, step=1)"
            ]
          },
          "metadata": {},
          "execution_count": 7
        }
      ],
      "source": [
        "data.index"
      ]
    },
    {
      "cell_type": "code",
      "execution_count": null,
      "metadata": {
        "hidden": true,
        "colab": {
          "base_uri": "https://localhost:8080/"
        },
        "id": "mZ8CvURVSOt8",
        "outputId": "9d32a8a4-4ded-4e24-95b7-ef3b78c8983e"
      },
      "outputs": [
        {
          "output_type": "execute_result",
          "data": {
            "text/plain": [
              "[1, 2, 3, 4, 5, 6, 7, 8, 9]"
            ]
          },
          "metadata": {},
          "execution_count": 8
        }
      ],
      "source": [
        "list(range(1,10))"
      ]
    },
    {
      "cell_type": "markdown",
      "metadata": {
        "hidden": true,
        "id": "Knn3BHoFSOt8"
      },
      "source": [
        "how to call data"
      ]
    },
    {
      "cell_type": "code",
      "execution_count": null,
      "metadata": {
        "hidden": true,
        "colab": {
          "base_uri": "https://localhost:8080/"
        },
        "id": "01O_fs5ESOt9",
        "outputId": "c68281ed-4345-4049-bb10-a3432e4d1907"
      },
      "outputs": [
        {
          "output_type": "execute_result",
          "data": {
            "text/plain": [
              "0.75"
            ]
          },
          "metadata": {},
          "execution_count": 9
        }
      ],
      "source": [
        "data[2]"
      ]
    },
    {
      "cell_type": "markdown",
      "metadata": {
        "hidden": true,
        "id": "vXZTYlYBSOt9"
      },
      "source": [
        "implicit index is the default index..\n",
        "\n",
        "we can define the index, this is called the explicit index i.e. the defined index..\n",
        "\n",
        "When defining an index, the number of indexes must be equal to the number of data."
      ]
    },
    {
      "cell_type": "code",
      "execution_count": null,
      "metadata": {
        "hidden": true,
        "id": "IfKeER9xSOt9"
      },
      "outputs": [],
      "source": [
        "data = pd.Series([0.25, 0.50, 0.75, 1], index=['a','b','c','d'])"
      ]
    },
    {
      "cell_type": "code",
      "execution_count": null,
      "metadata": {
        "hidden": true,
        "colab": {
          "base_uri": "https://localhost:8080/"
        },
        "id": "9UTea6CbSOt-",
        "outputId": "776a33c4-ee7a-4dfb-d397-9f4e373ffc29"
      },
      "outputs": [
        {
          "output_type": "execute_result",
          "data": {
            "text/plain": [
              "a    0.25\n",
              "b    0.50\n",
              "c    0.75\n",
              "d    1.00\n",
              "dtype: float64"
            ]
          },
          "metadata": {},
          "execution_count": 11
        }
      ],
      "source": [
        "data"
      ]
    },
    {
      "cell_type": "code",
      "execution_count": null,
      "metadata": {
        "hidden": true,
        "colab": {
          "base_uri": "https://localhost:8080/"
        },
        "id": "ythJTQ2zSOt-",
        "outputId": "d889da35-1ec6-4854-ee11-d8e4a674a47d"
      },
      "outputs": [
        {
          "output_type": "execute_result",
          "data": {
            "text/plain": [
              "array([0.25, 0.5 , 0.75, 1.  ])"
            ]
          },
          "metadata": {},
          "execution_count": 12
        }
      ],
      "source": [
        "data.values"
      ]
    },
    {
      "cell_type": "code",
      "execution_count": null,
      "metadata": {
        "hidden": true,
        "colab": {
          "base_uri": "https://localhost:8080/"
        },
        "id": "JG8_S-yJSOt-",
        "outputId": "d186f913-4dee-4584-bde2-1f21e669de21"
      },
      "outputs": [
        {
          "output_type": "execute_result",
          "data": {
            "text/plain": [
              "Index(['a', 'b', 'c', 'd'], dtype='object')"
            ]
          },
          "metadata": {},
          "execution_count": 13
        }
      ],
      "source": [
        "data.index"
      ]
    },
    {
      "cell_type": "markdown",
      "metadata": {
        "hidden": true,
        "id": "7Z_CMcmFSOt-"
      },
      "source": [
        "call the data"
      ]
    },
    {
      "cell_type": "code",
      "execution_count": null,
      "metadata": {
        "hidden": true,
        "colab": {
          "base_uri": "https://localhost:8080/"
        },
        "id": "PcOjVrMNSOt-",
        "outputId": "f7f487f0-301b-4c43-b615-06b2ac3ac4cb"
      },
      "outputs": [
        {
          "output_type": "execute_result",
          "data": {
            "text/plain": [
              "0.25"
            ]
          },
          "metadata": {},
          "execution_count": 14
        }
      ],
      "source": [
        "#indeks eksplisit\n",
        "\n",
        "data['a'] "
      ]
    },
    {
      "cell_type": "markdown",
      "metadata": {
        "hidden": true,
        "id": "V9Z5uE6HSOt_"
      },
      "source": [
        "this is data selection"
      ]
    },
    {
      "cell_type": "markdown",
      "metadata": {
        "hidden": true,
        "id": "8OUcYhDiSOt_"
      },
      "source": [
        "explicit, we can still call the implicit index.."
      ]
    },
    {
      "cell_type": "code",
      "execution_count": null,
      "metadata": {
        "hidden": true,
        "colab": {
          "base_uri": "https://localhost:8080/"
        },
        "id": "27nQcWAKSOt_",
        "outputId": "438ee8bd-d75d-4e4f-8630-7631341c306e"
      },
      "outputs": [
        {
          "output_type": "execute_result",
          "data": {
            "text/plain": [
              "1.0"
            ]
          },
          "metadata": {},
          "execution_count": 15
        }
      ],
      "source": [
        "#indeks implisit\n",
        "\n",
        "data[3]"
      ]
    },
    {
      "cell_type": "markdown",
      "metadata": {
        "hidden": true,
        "id": "TRthhwK9SOt_"
      },
      "source": [
        "when the implicit index and the explicit index are the same.. when we call the data, it will only rely on the explicit index."
      ]
    },
    {
      "cell_type": "code",
      "execution_count": null,
      "metadata": {
        "hidden": true,
        "id": "t-0HwLmRSOuA"
      },
      "outputs": [],
      "source": [
        "data_2 = pd.Series([0.25, 0.50, 0.75, 1], index=[2,5,3,7])"
      ]
    },
    {
      "cell_type": "code",
      "execution_count": null,
      "metadata": {
        "hidden": true,
        "colab": {
          "base_uri": "https://localhost:8080/"
        },
        "id": "fyB2DeKBSOuA",
        "outputId": "c018e685-b606-4166-aec0-6664e23141c3"
      },
      "outputs": [
        {
          "output_type": "execute_result",
          "data": {
            "text/plain": [
              "0.25"
            ]
          },
          "metadata": {},
          "execution_count": 17
        }
      ],
      "source": [
        "data_2[2]"
      ]
    },
    {
      "cell_type": "code",
      "execution_count": null,
      "metadata": {
        "hidden": true,
        "colab": {
          "base_uri": "https://localhost:8080/",
          "height": 501
        },
        "id": "-I4SSswZSOuA",
        "outputId": "06d6b3dc-9afe-4c6a-939b-01be08e45f5f"
      },
      "outputs": [
        {
          "output_type": "error",
          "ename": "KeyError",
          "evalue": "ignored",
          "traceback": [
            "\u001b[0;31m---------------------------------------------------------------------------\u001b[0m",
            "\u001b[0;31mKeyError\u001b[0m                                  Traceback (most recent call last)",
            "\u001b[0;32m/usr/local/lib/python3.7/dist-packages/pandas/core/indexes/base.py\u001b[0m in \u001b[0;36mget_loc\u001b[0;34m(self, key, method, tolerance)\u001b[0m\n\u001b[1;32m   3360\u001b[0m             \u001b[0;32mtry\u001b[0m\u001b[0;34m:\u001b[0m\u001b[0;34m\u001b[0m\u001b[0;34m\u001b[0m\u001b[0m\n\u001b[0;32m-> 3361\u001b[0;31m                 \u001b[0;32mreturn\u001b[0m \u001b[0mself\u001b[0m\u001b[0;34m.\u001b[0m\u001b[0m_engine\u001b[0m\u001b[0;34m.\u001b[0m\u001b[0mget_loc\u001b[0m\u001b[0;34m(\u001b[0m\u001b[0mcasted_key\u001b[0m\u001b[0;34m)\u001b[0m\u001b[0;34m\u001b[0m\u001b[0;34m\u001b[0m\u001b[0m\n\u001b[0m\u001b[1;32m   3362\u001b[0m             \u001b[0;32mexcept\u001b[0m \u001b[0mKeyError\u001b[0m \u001b[0;32mas\u001b[0m \u001b[0merr\u001b[0m\u001b[0;34m:\u001b[0m\u001b[0;34m\u001b[0m\u001b[0;34m\u001b[0m\u001b[0m\n",
            "\u001b[0;32m/usr/local/lib/python3.7/dist-packages/pandas/_libs/index.pyx\u001b[0m in \u001b[0;36mpandas._libs.index.IndexEngine.get_loc\u001b[0;34m()\u001b[0m\n",
            "\u001b[0;32m/usr/local/lib/python3.7/dist-packages/pandas/_libs/index.pyx\u001b[0m in \u001b[0;36mpandas._libs.index.IndexEngine.get_loc\u001b[0;34m()\u001b[0m\n",
            "\u001b[0;32mpandas/_libs/hashtable_class_helper.pxi\u001b[0m in \u001b[0;36mpandas._libs.hashtable.Int64HashTable.get_item\u001b[0;34m()\u001b[0m\n",
            "\u001b[0;32mpandas/_libs/hashtable_class_helper.pxi\u001b[0m in \u001b[0;36mpandas._libs.hashtable.Int64HashTable.get_item\u001b[0;34m()\u001b[0m\n",
            "\u001b[0;31mKeyError\u001b[0m: 0",
            "\nThe above exception was the direct cause of the following exception:\n",
            "\u001b[0;31mKeyError\u001b[0m                                  Traceback (most recent call last)",
            "\u001b[0;32m<ipython-input-18-e3f2a2017441>\u001b[0m in \u001b[0;36m<module>\u001b[0;34m()\u001b[0m\n\u001b[0;32m----> 1\u001b[0;31m \u001b[0mdata_2\u001b[0m\u001b[0;34m[\u001b[0m\u001b[0;36m0\u001b[0m\u001b[0;34m]\u001b[0m\u001b[0;34m\u001b[0m\u001b[0;34m\u001b[0m\u001b[0m\n\u001b[0m",
            "\u001b[0;32m/usr/local/lib/python3.7/dist-packages/pandas/core/series.py\u001b[0m in \u001b[0;36m__getitem__\u001b[0;34m(self, key)\u001b[0m\n\u001b[1;32m    940\u001b[0m \u001b[0;34m\u001b[0m\u001b[0m\n\u001b[1;32m    941\u001b[0m         \u001b[0;32melif\u001b[0m \u001b[0mkey_is_scalar\u001b[0m\u001b[0;34m:\u001b[0m\u001b[0;34m\u001b[0m\u001b[0;34m\u001b[0m\u001b[0m\n\u001b[0;32m--> 942\u001b[0;31m             \u001b[0;32mreturn\u001b[0m \u001b[0mself\u001b[0m\u001b[0;34m.\u001b[0m\u001b[0m_get_value\u001b[0m\u001b[0;34m(\u001b[0m\u001b[0mkey\u001b[0m\u001b[0;34m)\u001b[0m\u001b[0;34m\u001b[0m\u001b[0;34m\u001b[0m\u001b[0m\n\u001b[0m\u001b[1;32m    943\u001b[0m \u001b[0;34m\u001b[0m\u001b[0m\n\u001b[1;32m    944\u001b[0m         \u001b[0;32mif\u001b[0m \u001b[0mis_hashable\u001b[0m\u001b[0;34m(\u001b[0m\u001b[0mkey\u001b[0m\u001b[0;34m)\u001b[0m\u001b[0;34m:\u001b[0m\u001b[0;34m\u001b[0m\u001b[0;34m\u001b[0m\u001b[0m\n",
            "\u001b[0;32m/usr/local/lib/python3.7/dist-packages/pandas/core/series.py\u001b[0m in \u001b[0;36m_get_value\u001b[0;34m(self, label, takeable)\u001b[0m\n\u001b[1;32m   1049\u001b[0m \u001b[0;34m\u001b[0m\u001b[0m\n\u001b[1;32m   1050\u001b[0m         \u001b[0;31m# Similar to Index.get_value, but we do not fall back to positional\u001b[0m\u001b[0;34m\u001b[0m\u001b[0;34m\u001b[0m\u001b[0;34m\u001b[0m\u001b[0m\n\u001b[0;32m-> 1051\u001b[0;31m         \u001b[0mloc\u001b[0m \u001b[0;34m=\u001b[0m \u001b[0mself\u001b[0m\u001b[0;34m.\u001b[0m\u001b[0mindex\u001b[0m\u001b[0;34m.\u001b[0m\u001b[0mget_loc\u001b[0m\u001b[0;34m(\u001b[0m\u001b[0mlabel\u001b[0m\u001b[0;34m)\u001b[0m\u001b[0;34m\u001b[0m\u001b[0;34m\u001b[0m\u001b[0m\n\u001b[0m\u001b[1;32m   1052\u001b[0m         \u001b[0;32mreturn\u001b[0m \u001b[0mself\u001b[0m\u001b[0;34m.\u001b[0m\u001b[0mindex\u001b[0m\u001b[0;34m.\u001b[0m\u001b[0m_get_values_for_loc\u001b[0m\u001b[0;34m(\u001b[0m\u001b[0mself\u001b[0m\u001b[0;34m,\u001b[0m \u001b[0mloc\u001b[0m\u001b[0;34m,\u001b[0m \u001b[0mlabel\u001b[0m\u001b[0;34m)\u001b[0m\u001b[0;34m\u001b[0m\u001b[0;34m\u001b[0m\u001b[0m\n\u001b[1;32m   1053\u001b[0m \u001b[0;34m\u001b[0m\u001b[0m\n",
            "\u001b[0;32m/usr/local/lib/python3.7/dist-packages/pandas/core/indexes/base.py\u001b[0m in \u001b[0;36mget_loc\u001b[0;34m(self, key, method, tolerance)\u001b[0m\n\u001b[1;32m   3361\u001b[0m                 \u001b[0;32mreturn\u001b[0m \u001b[0mself\u001b[0m\u001b[0;34m.\u001b[0m\u001b[0m_engine\u001b[0m\u001b[0;34m.\u001b[0m\u001b[0mget_loc\u001b[0m\u001b[0;34m(\u001b[0m\u001b[0mcasted_key\u001b[0m\u001b[0;34m)\u001b[0m\u001b[0;34m\u001b[0m\u001b[0;34m\u001b[0m\u001b[0m\n\u001b[1;32m   3362\u001b[0m             \u001b[0;32mexcept\u001b[0m \u001b[0mKeyError\u001b[0m \u001b[0;32mas\u001b[0m \u001b[0merr\u001b[0m\u001b[0;34m:\u001b[0m\u001b[0;34m\u001b[0m\u001b[0;34m\u001b[0m\u001b[0m\n\u001b[0;32m-> 3363\u001b[0;31m                 \u001b[0;32mraise\u001b[0m \u001b[0mKeyError\u001b[0m\u001b[0;34m(\u001b[0m\u001b[0mkey\u001b[0m\u001b[0;34m)\u001b[0m \u001b[0;32mfrom\u001b[0m \u001b[0merr\u001b[0m\u001b[0;34m\u001b[0m\u001b[0;34m\u001b[0m\u001b[0m\n\u001b[0m\u001b[1;32m   3364\u001b[0m \u001b[0;34m\u001b[0m\u001b[0m\n\u001b[1;32m   3365\u001b[0m         \u001b[0;32mif\u001b[0m \u001b[0mis_scalar\u001b[0m\u001b[0;34m(\u001b[0m\u001b[0mkey\u001b[0m\u001b[0;34m)\u001b[0m \u001b[0;32mand\u001b[0m \u001b[0misna\u001b[0m\u001b[0;34m(\u001b[0m\u001b[0mkey\u001b[0m\u001b[0;34m)\u001b[0m \u001b[0;32mand\u001b[0m \u001b[0;32mnot\u001b[0m \u001b[0mself\u001b[0m\u001b[0;34m.\u001b[0m\u001b[0mhasnans\u001b[0m\u001b[0;34m:\u001b[0m\u001b[0;34m\u001b[0m\u001b[0;34m\u001b[0m\u001b[0m\n",
            "\u001b[0;31mKeyError\u001b[0m: 0"
          ]
        }
      ],
      "source": [
        "data_2[0]"
      ]
    },
    {
      "cell_type": "markdown",
      "metadata": {
        "hidden": true,
        "id": "Z-qOaEwwSOuA"
      },
      "source": [
        "we will try to do data slicing"
      ]
    },
    {
      "cell_type": "code",
      "execution_count": null,
      "metadata": {
        "hidden": true,
        "id": "kcXTnSkBSOuA"
      },
      "outputs": [],
      "source": [
        "data = pd.Series([0.25, 0.50, 0.75, 1], index=['a','b','c','d'])"
      ]
    },
    {
      "cell_type": "code",
      "execution_count": null,
      "metadata": {
        "hidden": true,
        "colab": {
          "base_uri": "https://localhost:8080/"
        },
        "id": "xS1roEW2SOuA",
        "outputId": "e0c95dac-8f77-4d4f-ec35-0d4e555c7cf7"
      },
      "outputs": [
        {
          "output_type": "execute_result",
          "data": {
            "text/plain": [
              "a    0.25\n",
              "b    0.50\n",
              "c    0.75\n",
              "d    1.00\n",
              "dtype: float64"
            ]
          },
          "metadata": {},
          "execution_count": 20
        }
      ],
      "source": [
        "data"
      ]
    },
    {
      "cell_type": "markdown",
      "metadata": {
        "hidden": true,
        "id": "B6w8n92GSOuB"
      },
      "source": [
        "for example we will call from data b to data c"
      ]
    },
    {
      "cell_type": "code",
      "execution_count": null,
      "metadata": {
        "hidden": true,
        "colab": {
          "base_uri": "https://localhost:8080/"
        },
        "id": "fWjv47tqSOuB",
        "outputId": "902160aa-7980-4d50-b229-8a61501f252f"
      },
      "outputs": [
        {
          "output_type": "execute_result",
          "data": {
            "text/plain": [
              "b    0.50\n",
              "c    0.75\n",
              "dtype: float64"
            ]
          },
          "metadata": {},
          "execution_count": 21
        }
      ],
      "source": [
        "data['b':'c'] #indeks eksplisit"
      ]
    },
    {
      "cell_type": "markdown",
      "metadata": {
        "hidden": true,
        "id": "onG1xuaxSOuB"
      },
      "source": [
        "but if we slicing the implicit index, then only the starting point will appear.. because the implicit index is a range.."
      ]
    },
    {
      "cell_type": "code",
      "execution_count": null,
      "metadata": {
        "hidden": true,
        "colab": {
          "base_uri": "https://localhost:8080/"
        },
        "id": "JOdFo4jXSOuB",
        "outputId": "0bb0b47d-b97c-434a-be77-07569e0bd62c"
      },
      "outputs": [
        {
          "output_type": "execute_result",
          "data": {
            "text/plain": [
              "b    0.5\n",
              "dtype: float64"
            ]
          },
          "metadata": {},
          "execution_count": 22
        }
      ],
      "source": [
        "data[1:2] #indeks implisit"
      ]
    },
    {
      "cell_type": "markdown",
      "metadata": {
        "heading_collapsed": true,
        "id": "wvXrCS_oSOuB"
      },
      "source": [
        "# loc dan iloc"
      ]
    },
    {
      "cell_type": "markdown",
      "metadata": {
        "hidden": true,
        "id": "UH057LfYSOuB"
      },
      "source": [
        "Example of data that has the same implicit index and explicit index"
      ]
    },
    {
      "cell_type": "code",
      "execution_count": null,
      "metadata": {
        "hidden": true,
        "id": "j78A9DmiSOuC"
      },
      "outputs": [],
      "source": [
        "data_2 = pd.Series([0.25, 0.50, 0.75, 1], index=[2,5,3,7])"
      ]
    },
    {
      "cell_type": "code",
      "execution_count": null,
      "metadata": {
        "hidden": true,
        "colab": {
          "base_uri": "https://localhost:8080/"
        },
        "id": "G0rCslAeSOuC",
        "outputId": "b23c89dc-ed30-4f4c-bfb5-e1cfb424588a"
      },
      "outputs": [
        {
          "output_type": "execute_result",
          "data": {
            "text/plain": [
              "2    0.25\n",
              "5    0.50\n",
              "3    0.75\n",
              "7    1.00\n",
              "dtype: float64"
            ]
          },
          "metadata": {},
          "execution_count": 48
        }
      ],
      "source": [
        "data_2"
      ]
    },
    {
      "cell_type": "markdown",
      "metadata": {
        "hidden": true,
        "id": "xL_KaD33SOuC"
      },
      "source": [
        "When we access an index, what appears is the explicit index."
      ]
    },
    {
      "cell_type": "code",
      "execution_count": null,
      "metadata": {
        "hidden": true,
        "colab": {
          "base_uri": "https://localhost:8080/"
        },
        "id": "iBU2lDUhSOuC",
        "outputId": "b3f5e8c1-8807-4ba5-e81a-e13eef5a22d0"
      },
      "outputs": [
        {
          "output_type": "execute_result",
          "data": {
            "text/plain": [
              "0.25"
            ]
          },
          "metadata": {},
          "execution_count": 49
        }
      ],
      "source": [
        "data_2[2] #indeks eksplisit : selecting"
      ]
    },
    {
      "cell_type": "markdown",
      "metadata": {
        "hidden": true,
        "id": "ncGjn1wvSOuC"
      },
      "source": [
        "when we call the explicit index from index 2 to index 3.. the value that appears is precisely from the implicit index.."
      ]
    },
    {
      "cell_type": "code",
      "execution_count": null,
      "metadata": {
        "hidden": true,
        "colab": {
          "base_uri": "https://localhost:8080/"
        },
        "id": "v4gZ6Yh4SOuC",
        "outputId": "2272df5b-bd47-4320-a3ee-3900fdf5d41a"
      },
      "outputs": [
        {
          "output_type": "execute_result",
          "data": {
            "text/plain": [
              "3    0.75\n",
              "dtype: float64"
            ]
          },
          "metadata": {},
          "execution_count": 50
        }
      ],
      "source": [
        "data_2[2:3] #indeks implisit : slicing"
      ]
    },
    {
      "cell_type": "markdown",
      "metadata": {
        "hidden": true,
        "id": "EDCUk-gMSOuC"
      },
      "source": [
        "when the explicit index and implicit index are the same, there will be inconsistencies like the case above."
      ]
    },
    {
      "cell_type": "markdown",
      "metadata": {
        "hidden": true,
        "id": "BPfRUUDPSOuD"
      },
      "source": [
        "To overcome this inconsistency, we will use the loc and iloc rules.\n",
        "\n",
        "loc is to call its explicit index..\n",
        "\n",
        "iloc is to call its implicit index.."
      ]
    },
    {
      "cell_type": "code",
      "execution_count": null,
      "metadata": {
        "hidden": true,
        "colab": {
          "base_uri": "https://localhost:8080/"
        },
        "id": "HrVTpx9HSOuD",
        "outputId": "8e8eff10-a05a-4b3b-8c3b-aaa8b8a72a8b"
      },
      "outputs": [
        {
          "output_type": "execute_result",
          "data": {
            "text/plain": [
              "0.75"
            ]
          },
          "metadata": {},
          "execution_count": 51
        }
      ],
      "source": [
        "#loc\n",
        "\n",
        "data_2.loc[3] #selecting indeks eksplisit"
      ]
    },
    {
      "cell_type": "code",
      "execution_count": null,
      "metadata": {
        "hidden": true,
        "colab": {
          "base_uri": "https://localhost:8080/"
        },
        "id": "pzefhpOqSOuD",
        "outputId": "8155c4b7-5edb-47ef-b5cb-3e231c3e8ec3"
      },
      "outputs": [
        {
          "output_type": "execute_result",
          "data": {
            "text/plain": [
              "2    0.25\n",
              "5    0.50\n",
              "3    0.75\n",
              "dtype: float64"
            ]
          },
          "metadata": {},
          "execution_count": 52
        }
      ],
      "source": [
        "data_2.loc[2:3] #slicing indeks eksplisit"
      ]
    },
    {
      "cell_type": "code",
      "execution_count": null,
      "metadata": {
        "hidden": true,
        "colab": {
          "base_uri": "https://localhost:8080/"
        },
        "id": "MlvEmvvDSOuD",
        "outputId": "836638ce-ca1d-4d19-f349-f36532d13ec9"
      },
      "outputs": [
        {
          "output_type": "execute_result",
          "data": {
            "text/plain": [
              "1.0"
            ]
          },
          "metadata": {},
          "execution_count": 53
        }
      ],
      "source": [
        "#iloc\n",
        "\n",
        "data_2.iloc[3] #selecting indeks implisit"
      ]
    },
    {
      "cell_type": "code",
      "execution_count": null,
      "metadata": {
        "hidden": true,
        "colab": {
          "base_uri": "https://localhost:8080/"
        },
        "id": "d4iYq4p5SOuD",
        "outputId": "4f3b19c6-0835-46b4-8a90-9519f2989f93"
      },
      "outputs": [
        {
          "output_type": "execute_result",
          "data": {
            "text/plain": [
              "3    0.75\n",
              "dtype: float64"
            ]
          },
          "metadata": {},
          "execution_count": 54
        }
      ],
      "source": [
        "data_2.iloc[2:3] #slicing indeks implisit"
      ]
    },
    {
      "cell_type": "markdown",
      "metadata": {
        "id": "cgNwQ4Y_SOuE"
      },
      "source": [
        "\n",
        "Data Frame is a collection of series, with at least one series."
      ]
    },
    {
      "cell_type": "code",
      "execution_count": null,
      "metadata": {
        "id": "epjOxgpLSOuE"
      },
      "outputs": [],
      "source": [
        "dict_populasi = {'Jakarta':750, \n",
        "                 'Bogor':490,\n",
        "                 'Depok':350,\n",
        "                 'Tanggerang':270,\n",
        "                 'Bekasi':670}\n",
        "\n",
        "#ini hanya permisalan, bukan angka populasi yg sesungguhnya"
      ]
    },
    {
      "cell_type": "code",
      "execution_count": null,
      "metadata": {
        "id": "3zadieIJSOuE",
        "outputId": "3b32ab83-f9fe-4bb8-90f1-e9acc0834e26"
      },
      "outputs": [
        {
          "data": {
            "text/plain": [
              "{'Jakarta': 750, 'Bogor': 490, 'Depok': 350, 'Tanggerang': 270, 'Bekasi': 670}"
            ]
          },
          "execution_count": 34,
          "metadata": {},
          "output_type": "execute_result"
        }
      ],
      "source": [
        "dict_populasi"
      ]
    },
    {
      "cell_type": "code",
      "execution_count": null,
      "metadata": {
        "id": "zkgqIlvkSOuE"
      },
      "outputs": [],
      "source": [
        "#transformasi dictionary ke series\n",
        "\n",
        "populasi = pd.Series(dict_populasi)"
      ]
    },
    {
      "cell_type": "code",
      "execution_count": null,
      "metadata": {
        "id": "OYVZvdVVSOuE",
        "outputId": "4fa151d9-67d5-45d9-ec49-4a2d42797465"
      },
      "outputs": [
        {
          "data": {
            "text/plain": [
              "Jakarta       750\n",
              "Bogor         490\n",
              "Depok         350\n",
              "Tanggerang    270\n",
              "Bekasi        670\n",
              "dtype: int64"
            ]
          },
          "execution_count": 36,
          "metadata": {},
          "output_type": "execute_result"
        }
      ],
      "source": [
        "populasi"
      ]
    },
    {
      "cell_type": "code",
      "execution_count": null,
      "metadata": {
        "id": "b1A71w7XSOuE",
        "outputId": "3effdcba-9005-4ff7-c1f9-3244604b4010"
      },
      "outputs": [
        {
          "data": {
            "text/plain": [
              "350"
            ]
          },
          "execution_count": 37,
          "metadata": {},
          "output_type": "execute_result"
        }
      ],
      "source": [
        "populasi.loc['Depok']"
      ]
    },
    {
      "cell_type": "code",
      "execution_count": null,
      "metadata": {
        "id": "IgMUNtRjSOuF",
        "outputId": "162ab425-168e-4d70-88b0-3fc858d7f456"
      },
      "outputs": [
        {
          "data": {
            "text/plain": [
              "350"
            ]
          },
          "execution_count": 38,
          "metadata": {},
          "output_type": "execute_result"
        }
      ],
      "source": [
        "populasi.iloc[2]"
      ]
    },
    {
      "cell_type": "code",
      "execution_count": null,
      "metadata": {
        "id": "-56oBLqYSOuF"
      },
      "outputs": [],
      "source": [
        "dict_luas = {'Jakarta':737, \n",
        "                 'Bogor':325,\n",
        "                 'Depok':247,\n",
        "                 'Tanggerang':302,\n",
        "                 'Bekasi':355}\n",
        "\n",
        "#This is just an example, not a real area number"
      ]
    },
    {
      "cell_type": "code",
      "execution_count": null,
      "metadata": {
        "id": "KVnDRBbASOuF"
      },
      "outputs": [],
      "source": [
        "luas = pd.Series(dict_luas)"
      ]
    },
    {
      "cell_type": "code",
      "execution_count": null,
      "metadata": {
        "id": "SB6f-It2SOuF",
        "outputId": "378a5a7c-bb76-4b3b-f16e-2e83a2f5cc9e"
      },
      "outputs": [
        {
          "data": {
            "text/plain": [
              "Jakarta       737\n",
              "Bogor         325\n",
              "Depok         247\n",
              "Tanggerang    302\n",
              "Bekasi        355\n",
              "dtype: int64"
            ]
          },
          "execution_count": 41,
          "metadata": {},
          "output_type": "execute_result"
        }
      ],
      "source": [
        "luas"
      ]
    },
    {
      "cell_type": "code",
      "execution_count": null,
      "metadata": {
        "id": "IvFuk_SHSOuF"
      },
      "outputs": [],
      "source": [
        "daerah = pd.DataFrame({'pop':populasi, 'luas':luas})"
      ]
    },
    {
      "cell_type": "code",
      "execution_count": null,
      "metadata": {
        "id": "2w7cxGeySOuF",
        "outputId": "33978d06-529b-489c-d502-75c871e61dd3"
      },
      "outputs": [
        {
          "data": {
            "text/html": [
              "<div>\n",
              "<style scoped>\n",
              "    .dataframe tbody tr th:only-of-type {\n",
              "        vertical-align: middle;\n",
              "    }\n",
              "\n",
              "    .dataframe tbody tr th {\n",
              "        vertical-align: top;\n",
              "    }\n",
              "\n",
              "    .dataframe thead th {\n",
              "        text-align: right;\n",
              "    }\n",
              "</style>\n",
              "<table border=\"1\" class=\"dataframe\">\n",
              "  <thead>\n",
              "    <tr style=\"text-align: right;\">\n",
              "      <th></th>\n",
              "      <th>pop</th>\n",
              "      <th>luas</th>\n",
              "    </tr>\n",
              "  </thead>\n",
              "  <tbody>\n",
              "    <tr>\n",
              "      <th>Jakarta</th>\n",
              "      <td>750</td>\n",
              "      <td>737</td>\n",
              "    </tr>\n",
              "    <tr>\n",
              "      <th>Bogor</th>\n",
              "      <td>490</td>\n",
              "      <td>325</td>\n",
              "    </tr>\n",
              "    <tr>\n",
              "      <th>Depok</th>\n",
              "      <td>350</td>\n",
              "      <td>247</td>\n",
              "    </tr>\n",
              "    <tr>\n",
              "      <th>Tanggerang</th>\n",
              "      <td>270</td>\n",
              "      <td>302</td>\n",
              "    </tr>\n",
              "    <tr>\n",
              "      <th>Bekasi</th>\n",
              "      <td>670</td>\n",
              "      <td>355</td>\n",
              "    </tr>\n",
              "  </tbody>\n",
              "</table>\n",
              "</div>"
            ],
            "text/plain": [
              "            pop  luas\n",
              "Jakarta     750   737\n",
              "Bogor       490   325\n",
              "Depok       350   247\n",
              "Tanggerang  270   302\n",
              "Bekasi      670   355"
            ]
          },
          "execution_count": 43,
          "metadata": {},
          "output_type": "execute_result"
        }
      ],
      "source": [
        "daerah"
      ]
    },
    {
      "cell_type": "code",
      "execution_count": null,
      "metadata": {
        "id": "bvfhyManSOuF",
        "outputId": "03852f6c-2bf3-4ecc-a645-0ab1672ca3be"
      },
      "outputs": [
        {
          "data": {
            "text/plain": [
              "737"
            ]
          },
          "execution_count": 44,
          "metadata": {},
          "output_type": "execute_result"
        }
      ],
      "source": [
        "daerah['luas']['Jakarta']"
      ]
    },
    {
      "cell_type": "markdown",
      "metadata": {
        "id": "mq6-gqfFSOuF"
      },
      "source": [
        "when calling data with regional.pop syntax it will appear as below\n",
        "\n",
        "because pop is the same as the name of the function in the data frame"
      ]
    },
    {
      "cell_type": "code",
      "execution_count": null,
      "metadata": {
        "id": "eKKyk5trSOuG",
        "outputId": "2cd42181-b180-433f-b804-134c4c177f8a"
      },
      "outputs": [
        {
          "data": {
            "text/plain": [
              "<bound method NDFrame.pop of             pop  luas\n",
              "Jakarta     750   737\n",
              "Bogor       490   325\n",
              "Depok       350   247\n",
              "Tanggerang  270   302\n",
              "Bekasi      670   355>"
            ]
          },
          "execution_count": 45,
          "metadata": {},
          "output_type": "execute_result"
        }
      ],
      "source": [
        "daerah.pop"
      ]
    },
    {
      "cell_type": "markdown",
      "metadata": {
        "id": "ox6Hn1BgSOuG"
      },
      "source": [
        "then it is safer to call the data with the syntax area['population']"
      ]
    },
    {
      "cell_type": "code",
      "execution_count": null,
      "metadata": {
        "id": "nFVduSFlSOuG",
        "outputId": "ab1b2932-dcd1-48e5-b3d4-8e159be6509e"
      },
      "outputs": [
        {
          "data": {
            "text/plain": [
              "Jakarta       750\n",
              "Bogor         490\n",
              "Depok         350\n",
              "Tanggerang    270\n",
              "Bekasi        670\n",
              "Name: pop, dtype: int64"
            ]
          },
          "execution_count": 46,
          "metadata": {},
          "output_type": "execute_result"
        }
      ],
      "source": [
        "daerah['pop']"
      ]
    },
    {
      "cell_type": "markdown",
      "metadata": {
        "id": "aivWDVI8SOuG"
      },
      "source": [
        "we rename the column pop to population"
      ]
    },
    {
      "cell_type": "code",
      "execution_count": null,
      "metadata": {
        "id": "Fa01cViwSOuG"
      },
      "outputs": [],
      "source": [
        "daerah = pd.DataFrame({'populasi':populasi, 'luas':luas})"
      ]
    },
    {
      "cell_type": "code",
      "execution_count": null,
      "metadata": {
        "id": "ykU7jpm0SOuG",
        "outputId": "2c705fc9-cf07-4fe5-c346-9aab9f07f718"
      },
      "outputs": [
        {
          "data": {
            "text/html": [
              "<div>\n",
              "<style scoped>\n",
              "    .dataframe tbody tr th:only-of-type {\n",
              "        vertical-align: middle;\n",
              "    }\n",
              "\n",
              "    .dataframe tbody tr th {\n",
              "        vertical-align: top;\n",
              "    }\n",
              "\n",
              "    .dataframe thead th {\n",
              "        text-align: right;\n",
              "    }\n",
              "</style>\n",
              "<table border=\"1\" class=\"dataframe\">\n",
              "  <thead>\n",
              "    <tr style=\"text-align: right;\">\n",
              "      <th></th>\n",
              "      <th>populasi</th>\n",
              "      <th>luas</th>\n",
              "    </tr>\n",
              "  </thead>\n",
              "  <tbody>\n",
              "    <tr>\n",
              "      <th>Jakarta</th>\n",
              "      <td>750</td>\n",
              "      <td>737</td>\n",
              "    </tr>\n",
              "    <tr>\n",
              "      <th>Bogor</th>\n",
              "      <td>490</td>\n",
              "      <td>325</td>\n",
              "    </tr>\n",
              "    <tr>\n",
              "      <th>Depok</th>\n",
              "      <td>350</td>\n",
              "      <td>247</td>\n",
              "    </tr>\n",
              "    <tr>\n",
              "      <th>Tanggerang</th>\n",
              "      <td>270</td>\n",
              "      <td>302</td>\n",
              "    </tr>\n",
              "    <tr>\n",
              "      <th>Bekasi</th>\n",
              "      <td>670</td>\n",
              "      <td>355</td>\n",
              "    </tr>\n",
              "  </tbody>\n",
              "</table>\n",
              "</div>"
            ],
            "text/plain": [
              "            populasi  luas\n",
              "Jakarta          750   737\n",
              "Bogor            490   325\n",
              "Depok            350   247\n",
              "Tanggerang       270   302\n",
              "Bekasi           670   355"
            ]
          },
          "execution_count": 48,
          "metadata": {},
          "output_type": "execute_result"
        }
      ],
      "source": [
        "daerah"
      ]
    },
    {
      "cell_type": "code",
      "execution_count": null,
      "metadata": {
        "id": "NffYNUCbSOuG",
        "outputId": "a6fbe2f3-d6dc-4a46-cf71-05c53e13a199"
      },
      "outputs": [
        {
          "data": {
            "text/plain": [
              "Jakarta       750\n",
              "Bogor         490\n",
              "Depok         350\n",
              "Tanggerang    270\n",
              "Bekasi        670\n",
              "Name: populasi, dtype: int64"
            ]
          },
          "execution_count": 49,
          "metadata": {},
          "output_type": "execute_result"
        }
      ],
      "source": [
        "daerah['populasi']"
      ]
    },
    {
      "cell_type": "code",
      "execution_count": null,
      "metadata": {
        "id": "t_je4mcASOuG",
        "outputId": "59c9daeb-78ec-4633-c7d9-b643459971ea"
      },
      "outputs": [
        {
          "data": {
            "text/plain": [
              "Jakarta    750\n",
              "Bogor      490\n",
              "Depok      350\n",
              "Name: populasi, dtype: int64"
            ]
          },
          "execution_count": 50,
          "metadata": {},
          "output_type": "execute_result"
        }
      ],
      "source": [
        "daerah['populasi']['Jakarta':'Depok'] #indeks eksplisit"
      ]
    },
    {
      "cell_type": "code",
      "execution_count": null,
      "metadata": {
        "id": "cc5GYozQSOuH",
        "outputId": "8527870d-0465-4abb-f440-0b1874e9adfe"
      },
      "outputs": [
        {
          "data": {
            "text/plain": [
              "Jakarta    750\n",
              "Bogor      490\n",
              "Depok      350\n",
              "Name: populasi, dtype: int64"
            ]
          },
          "execution_count": 51,
          "metadata": {},
          "output_type": "execute_result"
        }
      ],
      "source": [
        "daerah['populasi'].iloc[0:3] #indeks implisit"
      ]
    },
    {
      "cell_type": "code",
      "execution_count": null,
      "metadata": {
        "id": "9TIHzTkBSOuH"
      },
      "outputs": [],
      "source": [
        "#add new column\n",
        "\n",
        "daerah['pop_per_area']=daerah['populasi']/daerah['luas']"
      ]
    },
    {
      "cell_type": "code",
      "execution_count": null,
      "metadata": {
        "id": "j2XYnU8iSOuH",
        "outputId": "f789ddac-4f2a-4cc9-8d01-82fcc511facb"
      },
      "outputs": [
        {
          "data": {
            "text/html": [
              "<div>\n",
              "<style scoped>\n",
              "    .dataframe tbody tr th:only-of-type {\n",
              "        vertical-align: middle;\n",
              "    }\n",
              "\n",
              "    .dataframe tbody tr th {\n",
              "        vertical-align: top;\n",
              "    }\n",
              "\n",
              "    .dataframe thead th {\n",
              "        text-align: right;\n",
              "    }\n",
              "</style>\n",
              "<table border=\"1\" class=\"dataframe\">\n",
              "  <thead>\n",
              "    <tr style=\"text-align: right;\">\n",
              "      <th></th>\n",
              "      <th>populasi</th>\n",
              "      <th>luas</th>\n",
              "      <th>pop_per_area</th>\n",
              "    </tr>\n",
              "  </thead>\n",
              "  <tbody>\n",
              "    <tr>\n",
              "      <th>Jakarta</th>\n",
              "      <td>750</td>\n",
              "      <td>737</td>\n",
              "      <td>1.017639</td>\n",
              "    </tr>\n",
              "    <tr>\n",
              "      <th>Bogor</th>\n",
              "      <td>490</td>\n",
              "      <td>325</td>\n",
              "      <td>1.507692</td>\n",
              "    </tr>\n",
              "    <tr>\n",
              "      <th>Depok</th>\n",
              "      <td>350</td>\n",
              "      <td>247</td>\n",
              "      <td>1.417004</td>\n",
              "    </tr>\n",
              "    <tr>\n",
              "      <th>Tanggerang</th>\n",
              "      <td>270</td>\n",
              "      <td>302</td>\n",
              "      <td>0.894040</td>\n",
              "    </tr>\n",
              "    <tr>\n",
              "      <th>Bekasi</th>\n",
              "      <td>670</td>\n",
              "      <td>355</td>\n",
              "      <td>1.887324</td>\n",
              "    </tr>\n",
              "  </tbody>\n",
              "</table>\n",
              "</div>"
            ],
            "text/plain": [
              "            populasi  luas  pop_per_area\n",
              "Jakarta          750   737      1.017639\n",
              "Bogor            490   325      1.507692\n",
              "Depok            350   247      1.417004\n",
              "Tanggerang       270   302      0.894040\n",
              "Bekasi           670   355      1.887324"
            ]
          },
          "execution_count": 53,
          "metadata": {},
          "output_type": "execute_result"
        }
      ],
      "source": [
        "daerah"
      ]
    },
    {
      "cell_type": "code",
      "execution_count": null,
      "metadata": {
        "id": "mJctkUKXSOuH"
      },
      "outputs": [],
      "source": [
        "#add new line\n",
        "\n",
        "daerah_tambahan=pd.DataFrame({'Bandung':[151, 148,0.18]})"
      ]
    },
    {
      "cell_type": "code",
      "execution_count": null,
      "metadata": {
        "id": "NfCMvUlLSOuH",
        "outputId": "cb9885e8-98cc-4aac-e270-9e972ac4f515"
      },
      "outputs": [
        {
          "data": {
            "text/html": [
              "<div>\n",
              "<style scoped>\n",
              "    .dataframe tbody tr th:only-of-type {\n",
              "        vertical-align: middle;\n",
              "    }\n",
              "\n",
              "    .dataframe tbody tr th {\n",
              "        vertical-align: top;\n",
              "    }\n",
              "\n",
              "    .dataframe thead th {\n",
              "        text-align: right;\n",
              "    }\n",
              "</style>\n",
              "<table border=\"1\" class=\"dataframe\">\n",
              "  <thead>\n",
              "    <tr style=\"text-align: right;\">\n",
              "      <th></th>\n",
              "      <th>Bandung</th>\n",
              "    </tr>\n",
              "  </thead>\n",
              "  <tbody>\n",
              "    <tr>\n",
              "      <th>0</th>\n",
              "      <td>151.00</td>\n",
              "    </tr>\n",
              "    <tr>\n",
              "      <th>1</th>\n",
              "      <td>148.00</td>\n",
              "    </tr>\n",
              "    <tr>\n",
              "      <th>2</th>\n",
              "      <td>0.18</td>\n",
              "    </tr>\n",
              "  </tbody>\n",
              "</table>\n",
              "</div>"
            ],
            "text/plain": [
              "   Bandung\n",
              "0   151.00\n",
              "1   148.00\n",
              "2     0.18"
            ]
          },
          "execution_count": 55,
          "metadata": {},
          "output_type": "execute_result"
        }
      ],
      "source": [
        "daerah_tambahan"
      ]
    },
    {
      "cell_type": "code",
      "execution_count": null,
      "metadata": {
        "id": "OdtUUfp4SOuH"
      },
      "outputs": [],
      "source": [
        "daerah_tambahan=daerah_tambahan.T"
      ]
    },
    {
      "cell_type": "code",
      "execution_count": null,
      "metadata": {
        "id": "-NYJEfXmSOuH",
        "outputId": "c90482f8-2c7b-42c5-bf4c-1602c6a74e5d"
      },
      "outputs": [
        {
          "data": {
            "text/html": [
              "<div>\n",
              "<style scoped>\n",
              "    .dataframe tbody tr th:only-of-type {\n",
              "        vertical-align: middle;\n",
              "    }\n",
              "\n",
              "    .dataframe tbody tr th {\n",
              "        vertical-align: top;\n",
              "    }\n",
              "\n",
              "    .dataframe thead th {\n",
              "        text-align: right;\n",
              "    }\n",
              "</style>\n",
              "<table border=\"1\" class=\"dataframe\">\n",
              "  <thead>\n",
              "    <tr style=\"text-align: right;\">\n",
              "      <th></th>\n",
              "      <th>0</th>\n",
              "      <th>1</th>\n",
              "      <th>2</th>\n",
              "    </tr>\n",
              "  </thead>\n",
              "  <tbody>\n",
              "    <tr>\n",
              "      <th>Bandung</th>\n",
              "      <td>151.0</td>\n",
              "      <td>148.0</td>\n",
              "      <td>0.18</td>\n",
              "    </tr>\n",
              "  </tbody>\n",
              "</table>\n",
              "</div>"
            ],
            "text/plain": [
              "             0      1     2\n",
              "Bandung  151.0  148.0  0.18"
            ]
          },
          "execution_count": 57,
          "metadata": {},
          "output_type": "execute_result"
        }
      ],
      "source": [
        "daerah_tambahan"
      ]
    },
    {
      "cell_type": "code",
      "execution_count": null,
      "metadata": {
        "id": "NnDqweyjSOuI"
      },
      "outputs": [],
      "source": [
        "daerah_tambahan.columns=daerah.columns"
      ]
    },
    {
      "cell_type": "code",
      "execution_count": null,
      "metadata": {
        "id": "GQbRgWeCSOuI",
        "outputId": "79616ce2-793e-4c0a-ddf5-d0c6b35e8ce9"
      },
      "outputs": [
        {
          "data": {
            "text/html": [
              "<div>\n",
              "<style scoped>\n",
              "    .dataframe tbody tr th:only-of-type {\n",
              "        vertical-align: middle;\n",
              "    }\n",
              "\n",
              "    .dataframe tbody tr th {\n",
              "        vertical-align: top;\n",
              "    }\n",
              "\n",
              "    .dataframe thead th {\n",
              "        text-align: right;\n",
              "    }\n",
              "</style>\n",
              "<table border=\"1\" class=\"dataframe\">\n",
              "  <thead>\n",
              "    <tr style=\"text-align: right;\">\n",
              "      <th></th>\n",
              "      <th>populasi</th>\n",
              "      <th>luas</th>\n",
              "      <th>pop_per_area</th>\n",
              "    </tr>\n",
              "  </thead>\n",
              "  <tbody>\n",
              "    <tr>\n",
              "      <th>Bandung</th>\n",
              "      <td>151.0</td>\n",
              "      <td>148.0</td>\n",
              "      <td>0.18</td>\n",
              "    </tr>\n",
              "  </tbody>\n",
              "</table>\n",
              "</div>"
            ],
            "text/plain": [
              "         populasi   luas  pop_per_area\n",
              "Bandung     151.0  148.0          0.18"
            ]
          },
          "execution_count": 59,
          "metadata": {},
          "output_type": "execute_result"
        }
      ],
      "source": [
        "daerah_tambahan"
      ]
    },
    {
      "cell_type": "code",
      "execution_count": null,
      "metadata": {
        "id": "vsWIaTROSOuI",
        "outputId": "3ea113c3-bf0d-43b3-cdae-d1dd64f800e3"
      },
      "outputs": [
        {
          "data": {
            "text/html": [
              "<div>\n",
              "<style scoped>\n",
              "    .dataframe tbody tr th:only-of-type {\n",
              "        vertical-align: middle;\n",
              "    }\n",
              "\n",
              "    .dataframe tbody tr th {\n",
              "        vertical-align: top;\n",
              "    }\n",
              "\n",
              "    .dataframe thead th {\n",
              "        text-align: right;\n",
              "    }\n",
              "</style>\n",
              "<table border=\"1\" class=\"dataframe\">\n",
              "  <thead>\n",
              "    <tr style=\"text-align: right;\">\n",
              "      <th></th>\n",
              "      <th>populasi</th>\n",
              "      <th>luas</th>\n",
              "      <th>pop_per_area</th>\n",
              "    </tr>\n",
              "  </thead>\n",
              "  <tbody>\n",
              "    <tr>\n",
              "      <th>Jakarta</th>\n",
              "      <td>750.0</td>\n",
              "      <td>737.0</td>\n",
              "      <td>1.017639</td>\n",
              "    </tr>\n",
              "    <tr>\n",
              "      <th>Bogor</th>\n",
              "      <td>490.0</td>\n",
              "      <td>325.0</td>\n",
              "      <td>1.507692</td>\n",
              "    </tr>\n",
              "    <tr>\n",
              "      <th>Depok</th>\n",
              "      <td>350.0</td>\n",
              "      <td>247.0</td>\n",
              "      <td>1.417004</td>\n",
              "    </tr>\n",
              "    <tr>\n",
              "      <th>Tanggerang</th>\n",
              "      <td>270.0</td>\n",
              "      <td>302.0</td>\n",
              "      <td>0.894040</td>\n",
              "    </tr>\n",
              "    <tr>\n",
              "      <th>Bekasi</th>\n",
              "      <td>670.0</td>\n",
              "      <td>355.0</td>\n",
              "      <td>1.887324</td>\n",
              "    </tr>\n",
              "    <tr>\n",
              "      <th>Bandung</th>\n",
              "      <td>151.0</td>\n",
              "      <td>148.0</td>\n",
              "      <td>0.180000</td>\n",
              "    </tr>\n",
              "  </tbody>\n",
              "</table>\n",
              "</div>"
            ],
            "text/plain": [
              "            populasi   luas  pop_per_area\n",
              "Jakarta        750.0  737.0      1.017639\n",
              "Bogor          490.0  325.0      1.507692\n",
              "Depok          350.0  247.0      1.417004\n",
              "Tanggerang     270.0  302.0      0.894040\n",
              "Bekasi         670.0  355.0      1.887324\n",
              "Bandung        151.0  148.0      0.180000"
            ]
          },
          "execution_count": 60,
          "metadata": {},
          "output_type": "execute_result"
        }
      ],
      "source": [
        "#combine regional data and additional_area data with concat\n",
        "\n",
        "pd.concat([daerah, daerah_tambahan])"
      ]
    },
    {
      "cell_type": "code",
      "execution_count": null,
      "metadata": {
        "id": "gK0pAcBESOuI",
        "outputId": "958a77c3-7696-4e59-9ed5-653ca74aefe9"
      },
      "outputs": [
        {
          "data": {
            "text/html": [
              "<div>\n",
              "<style scoped>\n",
              "    .dataframe tbody tr th:only-of-type {\n",
              "        vertical-align: middle;\n",
              "    }\n",
              "\n",
              "    .dataframe tbody tr th {\n",
              "        vertical-align: top;\n",
              "    }\n",
              "\n",
              "    .dataframe thead th {\n",
              "        text-align: right;\n",
              "    }\n",
              "</style>\n",
              "<table border=\"1\" class=\"dataframe\">\n",
              "  <thead>\n",
              "    <tr style=\"text-align: right;\">\n",
              "      <th></th>\n",
              "      <th>populasi</th>\n",
              "      <th>luas</th>\n",
              "    </tr>\n",
              "  </thead>\n",
              "  <tbody>\n",
              "    <tr>\n",
              "      <th>Jakarta</th>\n",
              "      <td>750</td>\n",
              "      <td>737</td>\n",
              "    </tr>\n",
              "    <tr>\n",
              "      <th>Bogor</th>\n",
              "      <td>490</td>\n",
              "      <td>325</td>\n",
              "    </tr>\n",
              "    <tr>\n",
              "      <th>Depok</th>\n",
              "      <td>350</td>\n",
              "      <td>247</td>\n",
              "    </tr>\n",
              "    <tr>\n",
              "      <th>Tanggerang</th>\n",
              "      <td>270</td>\n",
              "      <td>302</td>\n",
              "    </tr>\n",
              "    <tr>\n",
              "      <th>Bekasi</th>\n",
              "      <td>670</td>\n",
              "      <td>355</td>\n",
              "    </tr>\n",
              "  </tbody>\n",
              "</table>\n",
              "</div>"
            ],
            "text/plain": [
              "            populasi  luas\n",
              "Jakarta          750   737\n",
              "Bogor            490   325\n",
              "Depok            350   247\n",
              "Tanggerang       270   302\n",
              "Bekasi           670   355"
            ]
          },
          "execution_count": 61,
          "metadata": {},
          "output_type": "execute_result"
        }
      ],
      "source": [
        "#deleting the column is not permanent, meaning that it is still stored in the data source\n",
        "\n",
        "daerah.drop('pop_per_area', axis=1)"
      ]
    },
    {
      "cell_type": "code",
      "execution_count": null,
      "metadata": {
        "id": "t3D0Ld8MSOuI",
        "outputId": "75481976-bba2-48af-c18c-47421085d751"
      },
      "outputs": [
        {
          "data": {
            "text/html": [
              "<div>\n",
              "<style scoped>\n",
              "    .dataframe tbody tr th:only-of-type {\n",
              "        vertical-align: middle;\n",
              "    }\n",
              "\n",
              "    .dataframe tbody tr th {\n",
              "        vertical-align: top;\n",
              "    }\n",
              "\n",
              "    .dataframe thead th {\n",
              "        text-align: right;\n",
              "    }\n",
              "</style>\n",
              "<table border=\"1\" class=\"dataframe\">\n",
              "  <thead>\n",
              "    <tr style=\"text-align: right;\">\n",
              "      <th></th>\n",
              "      <th>populasi</th>\n",
              "      <th>luas</th>\n",
              "      <th>pop_per_area</th>\n",
              "    </tr>\n",
              "  </thead>\n",
              "  <tbody>\n",
              "    <tr>\n",
              "      <th>Jakarta</th>\n",
              "      <td>750</td>\n",
              "      <td>737</td>\n",
              "      <td>1.017639</td>\n",
              "    </tr>\n",
              "    <tr>\n",
              "      <th>Bogor</th>\n",
              "      <td>490</td>\n",
              "      <td>325</td>\n",
              "      <td>1.507692</td>\n",
              "    </tr>\n",
              "    <tr>\n",
              "      <th>Depok</th>\n",
              "      <td>350</td>\n",
              "      <td>247</td>\n",
              "      <td>1.417004</td>\n",
              "    </tr>\n",
              "    <tr>\n",
              "      <th>Tanggerang</th>\n",
              "      <td>270</td>\n",
              "      <td>302</td>\n",
              "      <td>0.894040</td>\n",
              "    </tr>\n",
              "    <tr>\n",
              "      <th>Bekasi</th>\n",
              "      <td>670</td>\n",
              "      <td>355</td>\n",
              "      <td>1.887324</td>\n",
              "    </tr>\n",
              "  </tbody>\n",
              "</table>\n",
              "</div>"
            ],
            "text/plain": [
              "            populasi  luas  pop_per_area\n",
              "Jakarta          750   737      1.017639\n",
              "Bogor            490   325      1.507692\n",
              "Depok            350   247      1.417004\n",
              "Tanggerang       270   302      0.894040\n",
              "Bekasi           670   355      1.887324"
            ]
          },
          "execution_count": 62,
          "metadata": {},
          "output_type": "execute_result"
        }
      ],
      "source": [
        "daerah"
      ]
    },
    {
      "cell_type": "code",
      "execution_count": null,
      "metadata": {
        "id": "OSGuxb-QSOuI",
        "outputId": "386d1641-dbec-4ea3-cce9-cad645e71d61"
      },
      "outputs": [
        {
          "data": {
            "text/html": [
              "<div>\n",
              "<style scoped>\n",
              "    .dataframe tbody tr th:only-of-type {\n",
              "        vertical-align: middle;\n",
              "    }\n",
              "\n",
              "    .dataframe tbody tr th {\n",
              "        vertical-align: top;\n",
              "    }\n",
              "\n",
              "    .dataframe thead th {\n",
              "        text-align: right;\n",
              "    }\n",
              "</style>\n",
              "<table border=\"1\" class=\"dataframe\">\n",
              "  <thead>\n",
              "    <tr style=\"text-align: right;\">\n",
              "      <th></th>\n",
              "      <th>populasi</th>\n",
              "      <th>luas</th>\n",
              "      <th>pop_per_area</th>\n",
              "    </tr>\n",
              "  </thead>\n",
              "  <tbody>\n",
              "    <tr>\n",
              "      <th>Jakarta</th>\n",
              "      <td>750</td>\n",
              "      <td>737</td>\n",
              "      <td>1.017639</td>\n",
              "    </tr>\n",
              "    <tr>\n",
              "      <th>Bogor</th>\n",
              "      <td>490</td>\n",
              "      <td>325</td>\n",
              "      <td>1.507692</td>\n",
              "    </tr>\n",
              "    <tr>\n",
              "      <th>Depok</th>\n",
              "      <td>350</td>\n",
              "      <td>247</td>\n",
              "      <td>1.417004</td>\n",
              "    </tr>\n",
              "    <tr>\n",
              "      <th>Tanggerang</th>\n",
              "      <td>270</td>\n",
              "      <td>302</td>\n",
              "      <td>0.894040</td>\n",
              "    </tr>\n",
              "  </tbody>\n",
              "</table>\n",
              "</div>"
            ],
            "text/plain": [
              "            populasi  luas  pop_per_area\n",
              "Jakarta          750   737      1.017639\n",
              "Bogor            490   325      1.507692\n",
              "Depok            350   247      1.417004\n",
              "Tanggerang       270   302      0.894040"
            ]
          },
          "execution_count": 63,
          "metadata": {},
          "output_type": "execute_result"
        }
      ],
      "source": [
        "#deleting rows is not permanent, meaning that it is still stored in the data source\n",
        "\n",
        "daerah.drop('Bekasi', axis=0)"
      ]
    },
    {
      "cell_type": "code",
      "execution_count": null,
      "metadata": {
        "id": "68pYihL0SOuI",
        "outputId": "c257f91c-19fc-4b97-f833-1bf354896a8a"
      },
      "outputs": [
        {
          "data": {
            "text/html": [
              "<div>\n",
              "<style scoped>\n",
              "    .dataframe tbody tr th:only-of-type {\n",
              "        vertical-align: middle;\n",
              "    }\n",
              "\n",
              "    .dataframe tbody tr th {\n",
              "        vertical-align: top;\n",
              "    }\n",
              "\n",
              "    .dataframe thead th {\n",
              "        text-align: right;\n",
              "    }\n",
              "</style>\n",
              "<table border=\"1\" class=\"dataframe\">\n",
              "  <thead>\n",
              "    <tr style=\"text-align: right;\">\n",
              "      <th></th>\n",
              "      <th>populasi</th>\n",
              "      <th>luas</th>\n",
              "      <th>pop_per_area</th>\n",
              "    </tr>\n",
              "  </thead>\n",
              "  <tbody>\n",
              "    <tr>\n",
              "      <th>Jakarta</th>\n",
              "      <td>750</td>\n",
              "      <td>737</td>\n",
              "      <td>1.017639</td>\n",
              "    </tr>\n",
              "    <tr>\n",
              "      <th>Bogor</th>\n",
              "      <td>490</td>\n",
              "      <td>325</td>\n",
              "      <td>1.507692</td>\n",
              "    </tr>\n",
              "    <tr>\n",
              "      <th>Depok</th>\n",
              "      <td>350</td>\n",
              "      <td>247</td>\n",
              "      <td>1.417004</td>\n",
              "    </tr>\n",
              "    <tr>\n",
              "      <th>Tanggerang</th>\n",
              "      <td>270</td>\n",
              "      <td>302</td>\n",
              "      <td>0.894040</td>\n",
              "    </tr>\n",
              "    <tr>\n",
              "      <th>Bekasi</th>\n",
              "      <td>670</td>\n",
              "      <td>355</td>\n",
              "      <td>1.887324</td>\n",
              "    </tr>\n",
              "  </tbody>\n",
              "</table>\n",
              "</div>"
            ],
            "text/plain": [
              "            populasi  luas  pop_per_area\n",
              "Jakarta          750   737      1.017639\n",
              "Bogor            490   325      1.507692\n",
              "Depok            350   247      1.417004\n",
              "Tanggerang       270   302      0.894040\n",
              "Bekasi           670   355      1.887324"
            ]
          },
          "execution_count": 64,
          "metadata": {},
          "output_type": "execute_result"
        }
      ],
      "source": [
        "daerah"
      ]
    },
    {
      "cell_type": "code",
      "execution_count": null,
      "metadata": {
        "id": "V8LUugq7SOuJ"
      },
      "outputs": [],
      "source": [
        "#rename column"
      ]
    },
    {
      "cell_type": "code",
      "execution_count": null,
      "metadata": {
        "id": "akKQEDCeSOuJ",
        "outputId": "abbab50e-e538-40f0-8332-be79781b4074"
      },
      "outputs": [
        {
          "data": {
            "text/plain": [
              "Index(['populasi', 'luas', 'pop_per_area'], dtype='object')"
            ]
          },
          "execution_count": 66,
          "metadata": {},
          "output_type": "execute_result"
        }
      ],
      "source": [
        "daerah.columns"
      ]
    },
    {
      "cell_type": "code",
      "execution_count": null,
      "metadata": {
        "id": "xw-kqeypSOuJ"
      },
      "outputs": [],
      "source": [
        "#way 1 #permanent\n",
        "\n",
        "daerah.columns = ['populasi', 'luas_m2', 'pop_per_area']"
      ]
    },
    {
      "cell_type": "code",
      "execution_count": null,
      "metadata": {
        "id": "Xk0lKM_GSOuJ",
        "outputId": "7ae7377c-ca90-48e2-c54a-041ba19e1d89"
      },
      "outputs": [
        {
          "data": {
            "text/html": [
              "<div>\n",
              "<style scoped>\n",
              "    .dataframe tbody tr th:only-of-type {\n",
              "        vertical-align: middle;\n",
              "    }\n",
              "\n",
              "    .dataframe tbody tr th {\n",
              "        vertical-align: top;\n",
              "    }\n",
              "\n",
              "    .dataframe thead th {\n",
              "        text-align: right;\n",
              "    }\n",
              "</style>\n",
              "<table border=\"1\" class=\"dataframe\">\n",
              "  <thead>\n",
              "    <tr style=\"text-align: right;\">\n",
              "      <th></th>\n",
              "      <th>populasi</th>\n",
              "      <th>luas_m2</th>\n",
              "      <th>pop_per_area</th>\n",
              "    </tr>\n",
              "  </thead>\n",
              "  <tbody>\n",
              "    <tr>\n",
              "      <th>Jakarta</th>\n",
              "      <td>750</td>\n",
              "      <td>737</td>\n",
              "      <td>1.017639</td>\n",
              "    </tr>\n",
              "    <tr>\n",
              "      <th>Bogor</th>\n",
              "      <td>490</td>\n",
              "      <td>325</td>\n",
              "      <td>1.507692</td>\n",
              "    </tr>\n",
              "    <tr>\n",
              "      <th>Depok</th>\n",
              "      <td>350</td>\n",
              "      <td>247</td>\n",
              "      <td>1.417004</td>\n",
              "    </tr>\n",
              "    <tr>\n",
              "      <th>Tanggerang</th>\n",
              "      <td>270</td>\n",
              "      <td>302</td>\n",
              "      <td>0.894040</td>\n",
              "    </tr>\n",
              "    <tr>\n",
              "      <th>Bekasi</th>\n",
              "      <td>670</td>\n",
              "      <td>355</td>\n",
              "      <td>1.887324</td>\n",
              "    </tr>\n",
              "  </tbody>\n",
              "</table>\n",
              "</div>"
            ],
            "text/plain": [
              "            populasi  luas_m2  pop_per_area\n",
              "Jakarta          750      737      1.017639\n",
              "Bogor            490      325      1.507692\n",
              "Depok            350      247      1.417004\n",
              "Tanggerang       270      302      0.894040\n",
              "Bekasi           670      355      1.887324"
            ]
          },
          "execution_count": 68,
          "metadata": {},
          "output_type": "execute_result"
        }
      ],
      "source": [
        "daerah"
      ]
    },
    {
      "cell_type": "code",
      "execution_count": null,
      "metadata": {
        "id": "r5UjgL87SOuJ",
        "outputId": "626d63e8-331f-49c2-bf78-8d14c9858e2c"
      },
      "outputs": [
        {
          "data": {
            "text/html": [
              "<div>\n",
              "<style scoped>\n",
              "    .dataframe tbody tr th:only-of-type {\n",
              "        vertical-align: middle;\n",
              "    }\n",
              "\n",
              "    .dataframe tbody tr th {\n",
              "        vertical-align: top;\n",
              "    }\n",
              "\n",
              "    .dataframe thead th {\n",
              "        text-align: right;\n",
              "    }\n",
              "</style>\n",
              "<table border=\"1\" class=\"dataframe\">\n",
              "  <thead>\n",
              "    <tr style=\"text-align: right;\">\n",
              "      <th></th>\n",
              "      <th>populasi_daerah</th>\n",
              "      <th>luas_daerah</th>\n",
              "      <th>pop_per_area</th>\n",
              "    </tr>\n",
              "  </thead>\n",
              "  <tbody>\n",
              "    <tr>\n",
              "      <th>Jakarta</th>\n",
              "      <td>750</td>\n",
              "      <td>737</td>\n",
              "      <td>1.017639</td>\n",
              "    </tr>\n",
              "    <tr>\n",
              "      <th>Bogor</th>\n",
              "      <td>490</td>\n",
              "      <td>325</td>\n",
              "      <td>1.507692</td>\n",
              "    </tr>\n",
              "    <tr>\n",
              "      <th>Depok</th>\n",
              "      <td>350</td>\n",
              "      <td>247</td>\n",
              "      <td>1.417004</td>\n",
              "    </tr>\n",
              "    <tr>\n",
              "      <th>Tanggerang</th>\n",
              "      <td>270</td>\n",
              "      <td>302</td>\n",
              "      <td>0.894040</td>\n",
              "    </tr>\n",
              "    <tr>\n",
              "      <th>Bekasi</th>\n",
              "      <td>670</td>\n",
              "      <td>355</td>\n",
              "      <td>1.887324</td>\n",
              "    </tr>\n",
              "  </tbody>\n",
              "</table>\n",
              "</div>"
            ],
            "text/plain": [
              "            populasi_daerah  luas_daerah  pop_per_area\n",
              "Jakarta                 750          737      1.017639\n",
              "Bogor                   490          325      1.507692\n",
              "Depok                   350          247      1.417004\n",
              "Tanggerang              270          302      0.894040\n",
              "Bekasi                  670          355      1.887324"
            ]
          },
          "execution_count": 69,
          "metadata": {},
          "output_type": "execute_result"
        }
      ],
      "source": [
        "#way 2 #not permanent\n",
        "\n",
        "daerah.rename(columns={'populasi':'populasi_daerah','luas_m2':'luas_daerah'})"
      ]
    },
    {
      "cell_type": "code",
      "execution_count": null,
      "metadata": {
        "id": "jTcVCxskSOuJ",
        "outputId": "4659b59d-a4d1-4c73-b389-9b99fd84e4e8"
      },
      "outputs": [
        {
          "data": {
            "text/html": [
              "<div>\n",
              "<style scoped>\n",
              "    .dataframe tbody tr th:only-of-type {\n",
              "        vertical-align: middle;\n",
              "    }\n",
              "\n",
              "    .dataframe tbody tr th {\n",
              "        vertical-align: top;\n",
              "    }\n",
              "\n",
              "    .dataframe thead th {\n",
              "        text-align: right;\n",
              "    }\n",
              "</style>\n",
              "<table border=\"1\" class=\"dataframe\">\n",
              "  <thead>\n",
              "    <tr style=\"text-align: right;\">\n",
              "      <th></th>\n",
              "      <th>populasi</th>\n",
              "      <th>luas_m2</th>\n",
              "      <th>pop_per_area</th>\n",
              "    </tr>\n",
              "  </thead>\n",
              "  <tbody>\n",
              "    <tr>\n",
              "      <th>Jakarta</th>\n",
              "      <td>750</td>\n",
              "      <td>737</td>\n",
              "      <td>1.017639</td>\n",
              "    </tr>\n",
              "    <tr>\n",
              "      <th>Bogor</th>\n",
              "      <td>490</td>\n",
              "      <td>325</td>\n",
              "      <td>1.507692</td>\n",
              "    </tr>\n",
              "    <tr>\n",
              "      <th>Depok</th>\n",
              "      <td>350</td>\n",
              "      <td>247</td>\n",
              "      <td>1.417004</td>\n",
              "    </tr>\n",
              "    <tr>\n",
              "      <th>Tanggerang</th>\n",
              "      <td>270</td>\n",
              "      <td>302</td>\n",
              "      <td>0.894040</td>\n",
              "    </tr>\n",
              "    <tr>\n",
              "      <th>Bekasi</th>\n",
              "      <td>670</td>\n",
              "      <td>355</td>\n",
              "      <td>1.887324</td>\n",
              "    </tr>\n",
              "  </tbody>\n",
              "</table>\n",
              "</div>"
            ],
            "text/plain": [
              "            populasi  luas_m2  pop_per_area\n",
              "Jakarta          750      737      1.017639\n",
              "Bogor            490      325      1.507692\n",
              "Depok            350      247      1.417004\n",
              "Tanggerang       270      302      0.894040\n",
              "Bekasi           670      355      1.887324"
            ]
          },
          "execution_count": 70,
          "metadata": {},
          "output_type": "execute_result"
        }
      ],
      "source": [
        "daerah"
      ]
    },
    {
      "cell_type": "code",
      "execution_count": null,
      "metadata": {
        "id": "Gxq8XRvaSOuJ"
      },
      "outputs": [],
      "source": [
        "#way 2 #permanent \n",
        "\n",
        "daerah.rename(columns={'populasi':'populasi_daerah','luas_m2':'luas_daerah'}, inplace=True)"
      ]
    },
    {
      "cell_type": "code",
      "execution_count": null,
      "metadata": {
        "id": "DyygCXSNSOuJ",
        "outputId": "ae543555-43da-44d1-b1af-6c33b664f97c"
      },
      "outputs": [
        {
          "data": {
            "text/html": [
              "<div>\n",
              "<style scoped>\n",
              "    .dataframe tbody tr th:only-of-type {\n",
              "        vertical-align: middle;\n",
              "    }\n",
              "\n",
              "    .dataframe tbody tr th {\n",
              "        vertical-align: top;\n",
              "    }\n",
              "\n",
              "    .dataframe thead th {\n",
              "        text-align: right;\n",
              "    }\n",
              "</style>\n",
              "<table border=\"1\" class=\"dataframe\">\n",
              "  <thead>\n",
              "    <tr style=\"text-align: right;\">\n",
              "      <th></th>\n",
              "      <th>populasi_daerah</th>\n",
              "      <th>luas_daerah</th>\n",
              "      <th>pop_per_area</th>\n",
              "    </tr>\n",
              "  </thead>\n",
              "  <tbody>\n",
              "    <tr>\n",
              "      <th>Jakarta</th>\n",
              "      <td>750</td>\n",
              "      <td>737</td>\n",
              "      <td>1.017639</td>\n",
              "    </tr>\n",
              "    <tr>\n",
              "      <th>Bogor</th>\n",
              "      <td>490</td>\n",
              "      <td>325</td>\n",
              "      <td>1.507692</td>\n",
              "    </tr>\n",
              "    <tr>\n",
              "      <th>Depok</th>\n",
              "      <td>350</td>\n",
              "      <td>247</td>\n",
              "      <td>1.417004</td>\n",
              "    </tr>\n",
              "    <tr>\n",
              "      <th>Tanggerang</th>\n",
              "      <td>270</td>\n",
              "      <td>302</td>\n",
              "      <td>0.894040</td>\n",
              "    </tr>\n",
              "    <tr>\n",
              "      <th>Bekasi</th>\n",
              "      <td>670</td>\n",
              "      <td>355</td>\n",
              "      <td>1.887324</td>\n",
              "    </tr>\n",
              "  </tbody>\n",
              "</table>\n",
              "</div>"
            ],
            "text/plain": [
              "            populasi_daerah  luas_daerah  pop_per_area\n",
              "Jakarta                 750          737      1.017639\n",
              "Bogor                   490          325      1.507692\n",
              "Depok                   350          247      1.417004\n",
              "Tanggerang              270          302      0.894040\n",
              "Bekasi                  670          355      1.887324"
            ]
          },
          "execution_count": 72,
          "metadata": {},
          "output_type": "execute_result"
        }
      ],
      "source": [
        "daerah"
      ]
    },
    {
      "cell_type": "code",
      "execution_count": null,
      "metadata": {
        "id": "6-pQLSOgSOuK",
        "outputId": "ababb7ce-b22f-40ad-e175-0d9d51dffb52"
      },
      "outputs": [
        {
          "data": {
            "text/html": [
              "<div>\n",
              "<style scoped>\n",
              "    .dataframe tbody tr th:only-of-type {\n",
              "        vertical-align: middle;\n",
              "    }\n",
              "\n",
              "    .dataframe tbody tr th {\n",
              "        vertical-align: top;\n",
              "    }\n",
              "\n",
              "    .dataframe thead th {\n",
              "        text-align: right;\n",
              "    }\n",
              "</style>\n",
              "<table border=\"1\" class=\"dataframe\">\n",
              "  <thead>\n",
              "    <tr style=\"text-align: right;\">\n",
              "      <th></th>\n",
              "      <th>POPULASI_DAERAH</th>\n",
              "      <th>LUAS_DAERAH</th>\n",
              "      <th>POP_PER_AREA</th>\n",
              "    </tr>\n",
              "  </thead>\n",
              "  <tbody>\n",
              "    <tr>\n",
              "      <th>Jakarta</th>\n",
              "      <td>750</td>\n",
              "      <td>737</td>\n",
              "      <td>1.017639</td>\n",
              "    </tr>\n",
              "    <tr>\n",
              "      <th>Bogor</th>\n",
              "      <td>490</td>\n",
              "      <td>325</td>\n",
              "      <td>1.507692</td>\n",
              "    </tr>\n",
              "    <tr>\n",
              "      <th>Depok</th>\n",
              "      <td>350</td>\n",
              "      <td>247</td>\n",
              "      <td>1.417004</td>\n",
              "    </tr>\n",
              "    <tr>\n",
              "      <th>Tanggerang</th>\n",
              "      <td>270</td>\n",
              "      <td>302</td>\n",
              "      <td>0.894040</td>\n",
              "    </tr>\n",
              "    <tr>\n",
              "      <th>Bekasi</th>\n",
              "      <td>670</td>\n",
              "      <td>355</td>\n",
              "      <td>1.887324</td>\n",
              "    </tr>\n",
              "  </tbody>\n",
              "</table>\n",
              "</div>"
            ],
            "text/plain": [
              "            POPULASI_DAERAH  LUAS_DAERAH  POP_PER_AREA\n",
              "Jakarta                 750          737      1.017639\n",
              "Bogor                   490          325      1.507692\n",
              "Depok                   350          247      1.417004\n",
              "Tanggerang              270          302      0.894040\n",
              "Bekasi                  670          355      1.887324"
            ]
          },
          "execution_count": 73,
          "metadata": {},
          "output_type": "execute_result"
        }
      ],
      "source": [
        "#rename column to all caps\n",
        "\n",
        "daerah.rename(columns=str.upper)"
      ]
    },
    {
      "cell_type": "code",
      "execution_count": null,
      "metadata": {
        "id": "S7CQ0KepSOuK",
        "outputId": "d6442e1e-340e-47e0-d778-71cb2f417682"
      },
      "outputs": [
        {
          "data": {
            "text/html": [
              "<div>\n",
              "<style scoped>\n",
              "    .dataframe tbody tr th:only-of-type {\n",
              "        vertical-align: middle;\n",
              "    }\n",
              "\n",
              "    .dataframe tbody tr th {\n",
              "        vertical-align: top;\n",
              "    }\n",
              "\n",
              "    .dataframe thead th {\n",
              "        text-align: right;\n",
              "    }\n",
              "</style>\n",
              "<table border=\"1\" class=\"dataframe\">\n",
              "  <thead>\n",
              "    <tr style=\"text-align: right;\">\n",
              "      <th></th>\n",
              "      <th>populasi_daerah</th>\n",
              "      <th>luas_daerah</th>\n",
              "      <th>pop_per_area</th>\n",
              "    </tr>\n",
              "  </thead>\n",
              "  <tbody>\n",
              "    <tr>\n",
              "      <th>Jakarta</th>\n",
              "      <td>750</td>\n",
              "      <td>737</td>\n",
              "      <td>1.017639</td>\n",
              "    </tr>\n",
              "    <tr>\n",
              "      <th>Bogor</th>\n",
              "      <td>490</td>\n",
              "      <td>325</td>\n",
              "      <td>1.507692</td>\n",
              "    </tr>\n",
              "    <tr>\n",
              "      <th>Depok</th>\n",
              "      <td>350</td>\n",
              "      <td>247</td>\n",
              "      <td>1.417004</td>\n",
              "    </tr>\n",
              "    <tr>\n",
              "      <th>Tanggerang</th>\n",
              "      <td>270</td>\n",
              "      <td>302</td>\n",
              "      <td>0.894040</td>\n",
              "    </tr>\n",
              "    <tr>\n",
              "      <th>Bekasi</th>\n",
              "      <td>670</td>\n",
              "      <td>355</td>\n",
              "      <td>1.887324</td>\n",
              "    </tr>\n",
              "  </tbody>\n",
              "</table>\n",
              "</div>"
            ],
            "text/plain": [
              "            populasi_daerah  luas_daerah  pop_per_area\n",
              "Jakarta                 750          737      1.017639\n",
              "Bogor                   490          325      1.507692\n",
              "Depok                   350          247      1.417004\n",
              "Tanggerang              270          302      0.894040\n",
              "Bekasi                  670          355      1.887324"
            ]
          },
          "execution_count": 74,
          "metadata": {},
          "output_type": "execute_result"
        }
      ],
      "source": [
        "daerah"
      ]
    },
    {
      "cell_type": "code",
      "execution_count": null,
      "metadata": {
        "id": "b_cbhCaJSOuK",
        "outputId": "cb65ac59-8f69-40d2-e30e-b27ed05eb503"
      },
      "outputs": [
        {
          "data": {
            "text/html": [
              "<div>\n",
              "<style scoped>\n",
              "    .dataframe tbody tr th:only-of-type {\n",
              "        vertical-align: middle;\n",
              "    }\n",
              "\n",
              "    .dataframe tbody tr th {\n",
              "        vertical-align: top;\n",
              "    }\n",
              "\n",
              "    .dataframe thead th {\n",
              "        text-align: right;\n",
              "    }\n",
              "</style>\n",
              "<table border=\"1\" class=\"dataframe\">\n",
              "  <thead>\n",
              "    <tr style=\"text-align: right;\">\n",
              "      <th></th>\n",
              "      <th>populasi_daerah</th>\n",
              "      <th>luas_daerah</th>\n",
              "      <th>pop_per_area</th>\n",
              "    </tr>\n",
              "  </thead>\n",
              "  <tbody>\n",
              "    <tr>\n",
              "      <th>Tanggerang</th>\n",
              "      <td>270</td>\n",
              "      <td>302</td>\n",
              "      <td>0.894040</td>\n",
              "    </tr>\n",
              "    <tr>\n",
              "      <th>Depok</th>\n",
              "      <td>350</td>\n",
              "      <td>247</td>\n",
              "      <td>1.417004</td>\n",
              "    </tr>\n",
              "    <tr>\n",
              "      <th>Bogor</th>\n",
              "      <td>490</td>\n",
              "      <td>325</td>\n",
              "      <td>1.507692</td>\n",
              "    </tr>\n",
              "    <tr>\n",
              "      <th>Bekasi</th>\n",
              "      <td>670</td>\n",
              "      <td>355</td>\n",
              "      <td>1.887324</td>\n",
              "    </tr>\n",
              "    <tr>\n",
              "      <th>Jakarta</th>\n",
              "      <td>750</td>\n",
              "      <td>737</td>\n",
              "      <td>1.017639</td>\n",
              "    </tr>\n",
              "  </tbody>\n",
              "</table>\n",
              "</div>"
            ],
            "text/plain": [
              "            populasi_daerah  luas_daerah  pop_per_area\n",
              "Tanggerang              270          302      0.894040\n",
              "Depok                   350          247      1.417004\n",
              "Bogor                   490          325      1.507692\n",
              "Bekasi                  670          355      1.887324\n",
              "Jakarta                 750          737      1.017639"
            ]
          },
          "execution_count": 75,
          "metadata": {},
          "output_type": "execute_result"
        }
      ],
      "source": [
        "#for example, we will sort the population_area column from small to large\n",
        "\n",
        "daerah.sort_values('populasi_daerah')"
      ]
    },
    {
      "cell_type": "code",
      "execution_count": null,
      "metadata": {
        "id": "6SRF0xU0SOuK",
        "outputId": "e66f03ee-f10f-443e-fe8f-341ddf9f517c"
      },
      "outputs": [
        {
          "data": {
            "text/html": [
              "<div>\n",
              "<style scoped>\n",
              "    .dataframe tbody tr th:only-of-type {\n",
              "        vertical-align: middle;\n",
              "    }\n",
              "\n",
              "    .dataframe tbody tr th {\n",
              "        vertical-align: top;\n",
              "    }\n",
              "\n",
              "    .dataframe thead th {\n",
              "        text-align: right;\n",
              "    }\n",
              "</style>\n",
              "<table border=\"1\" class=\"dataframe\">\n",
              "  <thead>\n",
              "    <tr style=\"text-align: right;\">\n",
              "      <th></th>\n",
              "      <th>populasi_daerah</th>\n",
              "      <th>luas_daerah</th>\n",
              "      <th>pop_per_area</th>\n",
              "    </tr>\n",
              "  </thead>\n",
              "  <tbody>\n",
              "    <tr>\n",
              "      <th>Jakarta</th>\n",
              "      <td>750</td>\n",
              "      <td>737</td>\n",
              "      <td>1.017639</td>\n",
              "    </tr>\n",
              "    <tr>\n",
              "      <th>Bekasi</th>\n",
              "      <td>670</td>\n",
              "      <td>355</td>\n",
              "      <td>1.887324</td>\n",
              "    </tr>\n",
              "    <tr>\n",
              "      <th>Bogor</th>\n",
              "      <td>490</td>\n",
              "      <td>325</td>\n",
              "      <td>1.507692</td>\n",
              "    </tr>\n",
              "    <tr>\n",
              "      <th>Depok</th>\n",
              "      <td>350</td>\n",
              "      <td>247</td>\n",
              "      <td>1.417004</td>\n",
              "    </tr>\n",
              "    <tr>\n",
              "      <th>Tanggerang</th>\n",
              "      <td>270</td>\n",
              "      <td>302</td>\n",
              "      <td>0.894040</td>\n",
              "    </tr>\n",
              "  </tbody>\n",
              "</table>\n",
              "</div>"
            ],
            "text/plain": [
              "            populasi_daerah  luas_daerah  pop_per_area\n",
              "Jakarta                 750          737      1.017639\n",
              "Bekasi                  670          355      1.887324\n",
              "Bogor                   490          325      1.507692\n",
              "Depok                   350          247      1.417004\n",
              "Tanggerang              270          302      0.894040"
            ]
          },
          "execution_count": 76,
          "metadata": {},
          "output_type": "execute_result"
        }
      ],
      "source": [
        "#for example, we will sort the population_area column from large to small\n",
        "\n",
        "daerah.sort_values('populasi_daerah', ascending=False)"
      ]
    }
  ],
  "metadata": {
    "kernelspec": {
      "display_name": "Python 3 (ipykernel)",
      "language": "python",
      "name": "python3"
    },
    "language_info": {
      "codemirror_mode": {
        "name": "ipython",
        "version": 3
      },
      "file_extension": ".py",
      "mimetype": "text/x-python",
      "name": "python",
      "nbconvert_exporter": "python",
      "pygments_lexer": "ipython3",
      "version": "3.9.7"
    },
    "colab": {
      "name": "Porto.ipynb",
      "provenance": [],
      "collapsed_sections": []
    }
  },
  "nbformat": 4,
  "nbformat_minor": 0
}